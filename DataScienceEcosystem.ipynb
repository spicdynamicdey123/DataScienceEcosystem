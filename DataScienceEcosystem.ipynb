{
 "cells": [
  {
   "cell_type": "markdown",
   "id": "ce656085",
   "metadata": {},
   "source": [
    "Data Science Tools and Ecosystem"
   ]
  },
  {
   "cell_type": "markdown",
   "id": "e16a19b1",
   "metadata": {},
   "source": [
    "In this notebook, Data Science Tools and Ecosystem are summarized."
   ]
  },
  {
   "cell_type": "markdown",
   "id": "1b0f89f0",
   "metadata": {},
   "source": [
    "Today's Objectives :-\n",
    "1. Popular languages used by Data Scienctists\n",
    "2. Commonly used libraries \n",
    "3. Data Science tools used\n",
    "4. Using of Arithmatic Operations\n",
    "5. Converting minutes to hours "
   ]
  },
  {
   "cell_type": "markdown",
   "id": "ded319fe",
   "metadata": {},
   "source": [
    "Some of the popular languages that Data Scientists use are:"
   ]
  },
  {
   "cell_type": "markdown",
   "id": "8ae60b19",
   "metadata": {},
   "source": [
    "1. Python\n",
    "2. R\n",
    "3. SQL "
   ]
  },
  {
   "cell_type": "markdown",
   "id": "28a28589",
   "metadata": {},
   "source": [
    "Some of the commonly used libraries used by Data Scientists include:"
   ]
  },
  {
   "cell_type": "markdown",
   "id": "59b7da55",
   "metadata": {},
   "source": [
    "1. Numpy \n",
    "2. Seaborn \n",
    "3. Matplotlib\n",
    "4. Tenserflow"
   ]
  },
  {
   "cell_type": "markdown",
   "id": "01b0f1cb",
   "metadata": {},
   "source": [
    "Data Science Tools\n",
    "1. Jupyter Notebook\n",
    "2. RStudio\n",
    "3. Apache Zeppelin\n"
   ]
  },
  {
   "cell_type": "markdown",
   "id": "d8501fcc",
   "metadata": {},
   "source": [
    "Below are a few examples of evaluating arithmetic expressions in Python :-\n"
   ]
  },
  {
   "cell_type": "code",
   "execution_count": 3,
   "id": "935a7c4b",
   "metadata": {},
   "outputs": [
    {
     "data": {
      "text/plain": [
       "17"
      ]
     },
     "execution_count": 3,
     "metadata": {},
     "output_type": "execute_result"
    }
   ],
   "source": [
    "(3*4)+5"
   ]
  },
  {
   "cell_type": "markdown",
   "id": "d03531a3",
   "metadata": {},
   "source": [
    "Converting 200 minutes in hours"
   ]
  },
  {
   "cell_type": "code",
   "execution_count": 10,
   "id": "ca80d743",
   "metadata": {},
   "outputs": [
    {
     "name": "stdout",
     "output_type": "stream",
     "text": [
      "The conversion of minutes to hours gives 3hrs and 20mins\n"
     ]
    }
   ],
   "source": [
    "minutes = 200\n",
    "hours = minutes//60\n",
    "remaining_minutes = minutes%60\n",
    "print(f\"The conversion of minutes to hours gives {hours}hrs and {remaining_minutes}mins\")"
   ]
  },
  {
   "cell_type": "markdown",
   "id": "b5995b74",
   "metadata": {},
   "source": [
    "# Author\n",
    "Devaditya Dey "
   ]
  },
  {
   "cell_type": "code",
   "execution_count": null,
   "id": "f3de3f00",
   "metadata": {},
   "outputs": [],
   "source": []
  }
 ],
 "metadata": {
  "kernelspec": {
   "display_name": "Python 3 (ipykernel)",
   "language": "python",
   "name": "python3"
  },
  "language_info": {
   "codemirror_mode": {
    "name": "ipython",
    "version": 3
   },
   "file_extension": ".py",
   "mimetype": "text/x-python",
   "name": "python",
   "nbconvert_exporter": "python",
   "pygments_lexer": "ipython3",
   "version": "3.11.5"
  }
 },
 "nbformat": 4,
 "nbformat_minor": 5
}
